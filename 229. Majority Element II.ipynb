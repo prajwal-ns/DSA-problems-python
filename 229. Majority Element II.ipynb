{
 "cells": [
  {
   "cell_type": "markdown",
   "id": "146d6ab3",
   "metadata": {},
   "source": [
    "### 229. Majority Element II  \n",
    "\n",
    "Given an integer array of size n, find all elements that appear more than ⌊ n/3 ⌋ times.  \n",
    "\n",
    "Example 1:  \n",
    "Input: nums = [3,2,3]  \n",
    "Output: [3]  \n",
    "\n",
    "Example 2:  \n",
    "Input: nums = [1]  \n",
    "Output: [1]  \n",
    "\n",
    "Example 3:  \n",
    "Input: nums = [1,2]  \n",
    "Output: [1,2]  \n",
    " \n",
    "Constraints:  \n",
    "1 <= nums.length <= 5 * 104  \n",
    "-109 <= nums[i] <= 109 "
   ]
  },
  {
   "cell_type": "code",
   "execution_count": 36,
   "id": "d217f381",
   "metadata": {},
   "outputs": [],
   "source": [
    "import math"
   ]
  },
  {
   "cell_type": "code",
   "execution_count": null,
   "id": "7f9be64a",
   "metadata": {},
   "outputs": [
    {
     "name": "stdout",
     "output_type": "stream",
     "text": [
      "[1, 2] 0 {1: 1, 2: 1}\n"
     ]
    }
   ],
   "source": [
    "# nums = [3,2,3]\n",
    "# Output: [3]\n",
    "# nums = [1,2,2]\n",
    "nums = [1,2]\n",
    "# nums = [1]\n",
    "\n",
    "########################################################################\n",
    "\n",
    "n = len(nums)\n",
    "hash_map = {}\n",
    "lst = []\n",
    "k = math.floor(n/3)\n",
    "for i in range(n):\n",
    "    hash_map[nums[i]] = hash_map.get(nums[i], 0) + 1\n",
    "for key, value in hash_map.items():\n",
    "    if value > k:\n",
    "        lst.append(key)\n",
    "\n",
    "print(lst, k, hash_map)"
   ]
  },
  {
   "cell_type": "code",
   "execution_count": 77,
   "id": "04afc75b",
   "metadata": {},
   "outputs": [
    {
     "name": "stdout",
     "output_type": "stream",
     "text": [
      "{2} 0 {2: 2}\n"
     ]
    }
   ],
   "source": [
    "# nums = [3,2,3]\n",
    "# Output: [3]\n",
    "# nums = [1,2,2]\n",
    "# nums = [1,2]\n",
    "nums = [1]\n",
    "nums = [2,2]\n",
    "\n",
    "########################################################################\n",
    "\n",
    "n = len(nums)\n",
    "hash_map = {}\n",
    "lst = []\n",
    "k = math.floor(n/3)\n",
    "for i in range(n):\n",
    "    hash_map[nums[i]] = hash_map.get(nums[i], 0) + 1\n",
    "    if hash_map[nums[i]] > k:\n",
    "        lst.append(nums[i])\n",
    "\n",
    "print(set(lst), k, hash_map)"
   ]
  }
 ],
 "metadata": {
  "kernelspec": {
   "display_name": "general_env",
   "language": "python",
   "name": "python3"
  },
  "language_info": {
   "codemirror_mode": {
    "name": "ipython",
    "version": 3
   },
   "file_extension": ".py",
   "mimetype": "text/x-python",
   "name": "python",
   "nbconvert_exporter": "python",
   "pygments_lexer": "ipython3",
   "version": "3.11.4"
  }
 },
 "nbformat": 4,
 "nbformat_minor": 5
}
