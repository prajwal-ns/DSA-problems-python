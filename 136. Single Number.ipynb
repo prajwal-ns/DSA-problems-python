{
 "cells": [
  {
   "cell_type": "markdown",
   "metadata": {},
   "source": [
    "## 136. Single Number\n",
    "\n",
    "Given a non-empty array of integers nums, every element appears twice except for one. Find that single one.\n",
    "\n",
    "You must implement a solution with a linear runtime complexity and use only constant extra space.  \n",
    "\n",
    "Example 1:  \n",
    "Input: nums = [2,2,1]    \n",
    "Output: 1\n",
    "\n",
    "Example 2:  \n",
    "Input: nums = [4,1,2,1,2]  \n",
    "Output: 4\n",
    "\n",
    "Example 3:  \n",
    "Input: nums = [1]  \n",
    "Output: 1"
   ]
  },
  {
   "cell_type": "code",
   "execution_count": 16,
   "metadata": {},
   "outputs": [
    {
     "name": "stdout",
     "output_type": "stream",
     "text": [
      "4\n"
     ]
    }
   ],
   "source": [
    "nums = [4,1,2,1,2]  \n",
    "# nums = [1]\n",
    "n = len(nums)\n",
    "d = {}\n",
    "for i in range(n):\n",
    "    if nums[i] in d:\n",
    "        d[nums[i]] += 1\n",
    "    else:\n",
    "        d[nums[i]] = 1\n",
    "for key,value in d.items():\n",
    "    if len(d) == 1:\n",
    "        print(key) \n",
    "        break\n",
    "    elif value == 1:\n",
    "        print(key)\n",
    "        break\n"
   ]
  }
 ],
 "metadata": {
  "kernelspec": {
   "display_name": "general_env",
   "language": "python",
   "name": "python3"
  },
  "language_info": {
   "codemirror_mode": {
    "name": "ipython",
    "version": 3
   },
   "file_extension": ".py",
   "mimetype": "text/x-python",
   "name": "python",
   "nbconvert_exporter": "python",
   "pygments_lexer": "ipython3",
   "version": "3.11.4"
  }
 },
 "nbformat": 4,
 "nbformat_minor": 2
}
