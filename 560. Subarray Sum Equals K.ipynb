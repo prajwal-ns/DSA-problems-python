{
 "cells": [
  {
   "cell_type": "markdown",
   "id": "5519aeea",
   "metadata": {},
   "source": [
    "### 560. Subarray Sum Equals K  \n",
    "\n",
    "Given an array of integers nums and an integer k, return the total number of subarrays whose sum equals to k.  \n",
    "\n",
    "A subarray is a contiguous non-empty sequence of elements within an array.  \n",
    "\n",
    "Example 1:  \n",
    "Input: nums = [1,1,1], k = 2  \n",
    "Output: 2  \n",
    "\n",
    "Example 2:  \n",
    "Input: nums = [1,2,3], k = 3  \n",
    "Output: 2  \n",
    "\n",
    "Constraints:\n",
    "1 <= nums.length <= 2 * 104  \n",
    "-1000 <= nums[i] <= 1000  \n",
    "-107 <= k <= 107  "
   ]
  },
  {
   "cell_type": "code",
   "execution_count": 24,
   "id": "035adb12",
   "metadata": {},
   "outputs": [
    {
     "name": "stdout",
     "output_type": "stream",
     "text": [
      "{0: 1, 1: 1, 3: 1, 6: 1} \n",
      " 6 \n",
      " count: 2\n"
     ]
    }
   ],
   "source": [
    "# nums = [1,1,1]\n",
    "nums = [1,2,3]\n",
    "# k = 2\n",
    "k = 3\n",
    "# Output: 2\n",
    "\n",
    "hash_map = {0:1}\n",
    "curr_sum = 0\n",
    "cnt = 0\n",
    "for i in range(len(nums)):\n",
    "    curr_sum += nums[i]\n",
    "    cnt += hash_map.get(curr_sum-k, 0) \n",
    "    hash_map[curr_sum] = hash_map.get(curr_sum, 0) + 1\n",
    "\n",
    "print(f\"{hash_map} \\n {curr_sum} \\n count: {cnt}\")"
   ]
  }
 ],
 "metadata": {
  "kernelspec": {
   "display_name": "Python 3",
   "language": "python",
   "name": "python3"
  },
  "language_info": {
   "codemirror_mode": {
    "name": "ipython",
    "version": 3
   },
   "file_extension": ".py",
   "mimetype": "text/x-python",
   "name": "python",
   "nbconvert_exporter": "python",
   "pygments_lexer": "ipython3",
   "version": "3.11.9"
  }
 },
 "nbformat": 4,
 "nbformat_minor": 5
}
