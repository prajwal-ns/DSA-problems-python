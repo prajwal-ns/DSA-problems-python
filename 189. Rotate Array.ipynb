{
 "cells": [
  {
   "cell_type": "markdown",
   "metadata": {},
   "source": [
    "## 189. Rotate Array\n",
    "\n",
    "Given an integer array nums, rotate the array to the right by k steps, where k is non-negative.\n",
    "\n",
    " \n",
    "\n",
    "Example 1:\n",
    "\n",
    "Input: nums = [1,2,3,4,5,6,7], k = 3  \n",
    "Output: [5,6,7,1,2,3,4]  \n",
    "Explanation:  \n",
    "rotate 1 steps to the right: [7,1,2,3,4,5,6]  \n",
    "rotate 2 steps to the right: [6,7,1,2,3,4,5]  \n",
    "rotate 3 steps to the right: [5,6,7,1,2,3,4]  \n",
    "Example 2:  \n",
    "\n",
    "Input: nums = [-1,-100,3,99], k = 2  \n",
    "Output: [3,99,-1,-100]  \n",
    "Explanation:   \n",
    "rotate 1 steps to the right: [99,-1,-100,3]  \n",
    "rotate 2 steps to the right: [3,99,-1,-100]  "
   ]
  },
  {
   "cell_type": "code",
   "execution_count": 85,
   "metadata": {},
   "outputs": [
    {
     "name": "stdout",
     "output_type": "stream",
     "text": [
      "[1, 2, 3, 4, 5, 6, 7]\n"
     ]
    }
   ],
   "source": [
    "nums = [1,2,3,4,5,6,7]\n",
    "k = 3\n",
    "print(nums)"
   ]
  },
  {
   "cell_type": "code",
   "execution_count": null,
   "metadata": {},
   "outputs": [
    {
     "data": {
      "text/plain": [
       "[6, 7, 1, 2, 3, 4, 5]"
      ]
     },
     "execution_count": 83,
     "metadata": {},
     "output_type": "execute_result"
    }
   ],
   "source": [
    "## approach - 1(using extra memory)\n",
    "n = len(nums)\n",
    "temp = nums.copy()\n",
    "for i in range(n):\n",
    "    # applying (i+k)%n so that nth element wont go out of range\n",
    "    temp[(i+k)%n] = nums[i]\n",
    "temp"
   ]
  },
  {
   "cell_type": "code",
   "execution_count": 90,
   "metadata": {},
   "outputs": [
    {
     "name": "stdout",
     "output_type": "stream",
     "text": [
      "l: 0, r: 1\n",
      "l: 1, r: 0\n",
      "\n",
      "\n"
     ]
    }
   ],
   "source": [
    "# approaach - 2(optimal)\n",
    "\n",
    "# test case with 2 elements\n",
    "nums = [1,2]\n",
    "n = len(nums)\n",
    "k = k % n\n",
    "l,r = 0, n-1\n",
    "while l<r:\n",
    "    nums[l], nums[r] = nums[r], nums[l]\n",
    "    print(f'l: {l}, r: {r}')\n",
    "    l,r = l+1, r-1\n",
    "    print(f'l: {l}, r: {r}')\n",
    "    print('\\n')\n",
    "\n",
    "## won't enter the loop because k = 1, hence loop will be from 0,0\n",
    "l,r = 0, k-1\n",
    "while l<r:\n",
    "    nums[l], nums[r] = nums[r], nums[l]\n",
    "    print(f'l: {l}, r: {r}')\n",
    "    l,r = l+1, r-1\n",
    "    print(f'l: {l}, r: {r}')\n",
    "    print('\\n')\n",
    "## won't enter the loop, 1,1\n",
    "l,r = k, n-1\n",
    "while l<r:\n",
    "    nums[l], nums[r] = nums[r], nums[l]\n",
    "    print(f'l: {l}, r: {r}')\n",
    "    l,r = l+1, r-1\n",
    "    print(f'l: {l}, r: {r}')\n",
    "    print('\\n')"
   ]
  },
  {
   "cell_type": "code",
   "execution_count": 92,
   "metadata": {},
   "outputs": [
    {
     "name": "stdout",
     "output_type": "stream",
     "text": [
      "[5, 6, 7, 1, 2, 3, 4]\n"
     ]
    }
   ],
   "source": [
    "## with the original array (nums)\n",
    "nums = [1,2,3,4,5,6,7]\n",
    "k = 3\n",
    "\n",
    "n = len(nums)\n",
    "k = k % n\n",
    "l,r = 0, n-1\n",
    "\n",
    "def rev(l,r):\n",
    "    while l < r:\n",
    "        nums[l], nums[r] = nums[r],  nums[l]\n",
    "        l,r = l+1, r-1 \n",
    "\n",
    "rev(0, n-1)\n",
    "rev(0, k-1)\n",
    "rev(k,n-1)\n",
    "print(nums)"
   ]
  }
 ],
 "metadata": {
  "kernelspec": {
   "display_name": "general_env",
   "language": "python",
   "name": "python3"
  },
  "language_info": {
   "codemirror_mode": {
    "name": "ipython",
    "version": 3
   },
   "file_extension": ".py",
   "mimetype": "text/x-python",
   "name": "python",
   "nbconvert_exporter": "python",
   "pygments_lexer": "ipython3",
   "version": "3.11.4"
  }
 },
 "nbformat": 4,
 "nbformat_minor": 2
}
