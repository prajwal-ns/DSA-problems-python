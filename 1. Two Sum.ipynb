{
 "cells": [
  {
   "cell_type": "markdown",
   "metadata": {},
   "source": [
    "### 1. Two Sum  \n",
    "Given an array of integers nums and an integer target, return indices of the two numbers such that they add up to target.  \n",
    "You may assume that each input would have exactly one solution, and you may not use the same element twice.  \n",
    "You can return the answer in any order.  \n",
    "\n",
    "Example 1:  \n",
    "Input: nums = [2,7,11,15], target = 9  \n",
    "Output: [0,1]  \n",
    "Explanation: Because nums[0] + nums[1] == 9, we return [0, 1].   \n",
    "\n",
    "Example 2:    \n",
    "Input: nums = [3,2,4], target = 6  \n",
    "Output: [1,2]  \n",
    "\n",
    "Example 3:  \n",
    "Input: nums = [3,3], target = 6  \n",
    "Output: [0,1]  "
   ]
  },
  {
   "cell_type": "code",
   "execution_count": 9,
   "metadata": {},
   "outputs": [
    {
     "name": "stdout",
     "output_type": "stream",
     "text": [
      "0 1\n"
     ]
    }
   ],
   "source": [
    "# nums = [2,7,11,15]\n",
    "# target = 9\n",
    "# nums = [3,2,4]\n",
    "# target = 6  \n",
    "nums = [3,3]\n",
    "target = 6  \n",
    "\n",
    "n = len(nums)\n",
    "for i in range(n):\n",
    "    for j in range(i+1, n):\n",
    "        if nums[i]+nums[j] == target:\n",
    "            print(i,j)\n",
    "            break"
   ]
  },
  {
   "cell_type": "markdown",
   "metadata": {},
   "source": [
    "#### Approach - 2  \n",
    "\n",
    "Using Hashmaps"
   ]
  },
  {
   "cell_type": "code",
   "execution_count": 34,
   "metadata": {},
   "outputs": [
    {
     "name": "stdout",
     "output_type": "stream",
     "text": [
      "1 2\n"
     ]
    }
   ],
   "source": [
    "# nums = [2,7,11,15]\n",
    "# target = 9\n",
    "nums = [3,2,4]\n",
    "target = 6  \n",
    "hash_m = {}\n",
    "n = len(nums)\n",
    "for i in range(n):\n",
    "    if (target - nums[i]) in hash_m.keys():\n",
    "        print(hash_m[target - nums[i]], i)\n",
    "        break\n",
    "    else:\n",
    "        hash_m[nums[i]] = i\n"
   ]
  }
 ],
 "metadata": {
  "kernelspec": {
   "display_name": "general_env",
   "language": "python",
   "name": "python3"
  },
  "language_info": {
   "codemirror_mode": {
    "name": "ipython",
    "version": 3
   },
   "file_extension": ".py",
   "mimetype": "text/x-python",
   "name": "python",
   "nbconvert_exporter": "python",
   "pygments_lexer": "ipython3",
   "version": "3.11.4"
  }
 },
 "nbformat": 4,
 "nbformat_minor": 2
}
