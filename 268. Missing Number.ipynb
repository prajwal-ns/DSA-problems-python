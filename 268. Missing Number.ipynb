{
 "cells": [
  {
   "cell_type": "markdown",
   "metadata": {},
   "source": [
    "## 268. Missing Number"
   ]
  },
  {
   "cell_type": "markdown",
   "metadata": {},
   "source": [
    "<p>Given an array nums containing n distinct numbers in the range [0, n], return the only number in the range that is missing from the array.   </p>\n",
    "<p>Example 1:<br>Input: nums = [3,0,1]<br>Output: 2</p>\n",
    "<p>Explanation: n = 3 since there are 3 numbers, so all numbers are in the range [0,3]. 2 is the missing number in the range since it does not appear in nums.</p>\n",
    "<p>Example 2:<br>Input: nums = [0,1]<br>Output: 2</p>\n",
    "<p>Explanation: n = 2 since there are 2 numbers, so all numbers are in the range [0,2]. 2 is the missing number in the range since it does not appear in nums.</p>\n",
    "<p>Example 3:<br>Input: nums = [9,6,4,2,3,5,7,0,1]<br>Output: 8<br>Explanation: \n",
    "n = 9 since there are 9 numbers, so all numbers are in the range [0,9]. 8 is the missing number in the range since it does not appear in nums.</p>\n"
   ]
  },
  {
   "cell_type": "code",
   "execution_count": 2,
   "metadata": {},
   "outputs": [
    {
     "name": "stdout",
     "output_type": "stream",
     "text": [
      "2\n"
     ]
    }
   ],
   "source": [
    "## approach - 1\n",
    "nums = [3,0,1]\n",
    "n = len(nums)\n",
    "for i in range(n):\n",
    "    if i not in nums:\n",
    "        print(i)"
   ]
  },
  {
   "cell_type": "code",
   "execution_count": 6,
   "metadata": {},
   "outputs": [
    {
     "data": {
      "text/plain": [
       "2"
      ]
     },
     "execution_count": 6,
     "metadata": {},
     "output_type": "execute_result"
    }
   ],
   "source": [
    "## approach - 2\n",
    "nums = [3,0,1]\n",
    "n = len(nums)\n",
    "s = n*(n+1)/2\n",
    "for i in range(n):\n",
    "    s -= nums[i]\n",
    "int(s)\n"
   ]
  }
 ],
 "metadata": {
  "kernelspec": {
   "display_name": "general_env",
   "language": "python",
   "name": "python3"
  },
  "language_info": {
   "codemirror_mode": {
    "name": "ipython",
    "version": 3
   },
   "file_extension": ".py",
   "mimetype": "text/x-python",
   "name": "python",
   "nbconvert_exporter": "python",
   "pygments_lexer": "ipython3",
   "version": "3.11.4"
  }
 },
 "nbformat": 4,
 "nbformat_minor": 2
}
