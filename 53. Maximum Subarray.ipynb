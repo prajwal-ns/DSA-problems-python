{
 "cells": [
  {
   "cell_type": "markdown",
   "metadata": {},
   "source": [
    "### 53. Maximum Subarray  \n",
    "\n",
    "Link: [Leetcode](https://leetcode.com/problems/maximum-subarray/description/)\n",
    "\n",
    "Given an integer array nums, find the subarray with the largest sum, and return its sum.  \n",
    "\n",
    "Example 1:  \n",
    "Input: nums = [-2,1,-3,4,-1,2,1,-5,4]  \n",
    "Output: 6  \n",
    "Explanation: The subarray [4,-1,2,1] has the largest sum 6.  \n",
    "\n",
    "Example 2:  \n",
    "Input: nums = [1]  \n",
    "Output: 1  \n",
    "Explanation: The subarray [1] has the largest sum 1.  \n",
    "\n",
    "Example 3:  \n",
    "Input: nums = [5,4,-1,7,8]  \n",
    "Output: 23  \n",
    "Explanation: The subarray [5,4,-1,7,8] has the largest sum 23.  "
   ]
  },
  {
   "cell_type": "code",
   "execution_count": 26,
   "metadata": {},
   "outputs": [
    {
     "data": {
      "text/plain": [
       "23"
      ]
     },
     "execution_count": 26,
     "metadata": {},
     "output_type": "execute_result"
    }
   ],
   "source": [
    "import math\n",
    "# nums = [-2,1,-3,4,-1,2,1,-5,4]  \n",
    "nums = [5,4,-1,7,8]  \n",
    "n = len(nums)\n",
    "maxn = -math.inf\n",
    "\n",
    "for i in range(n):\n",
    "    s = 0\n",
    "    for j in range(i, n):\n",
    "        s += nums[j]\n",
    "        maxn = max(maxn, s)\n",
    "maxn    \n",
    "\n",
    "\n",
    "\n"
   ]
  },
  {
   "cell_type": "markdown",
   "metadata": {},
   "source": [
    "#### Kadane's Algorithm - Maximum Sum Subarray\n",
    "\n",
    "[Link for the video](https://www.youtube.com/watch?v=jnoVtCKECmQ)"
   ]
  },
  {
   "cell_type": "code",
   "execution_count": 42,
   "metadata": {},
   "outputs": [
    {
     "name": "stdout",
     "output_type": "stream",
     "text": [
      "[-2, 1, -3, 4, -1, 2, 1, -5, 4]\n",
      "i = 1, nums[i] + cur_s: 1 + -2\n",
      "cur_s, max_s: 1, 1 \n",
      "\n",
      "[-2, 1, -3, 4, -1, 2, 1, -5, 4]\n",
      "i = 2, nums[i] + cur_s: -3 + 1\n",
      "cur_s, max_s: -2, 1 \n",
      "\n",
      "[-2, 1, -3, 4, -1, 2, 1, -5, 4]\n",
      "i = 3, nums[i] + cur_s: 4 + -2\n",
      "cur_s, max_s: 4, 4 \n",
      "\n",
      "[-2, 1, -3, 4, -1, 2, 1, -5, 4]\n",
      "i = 4, nums[i] + cur_s: -1 + 4\n",
      "cur_s, max_s: 3, 4 \n",
      "\n",
      "[-2, 1, -3, 4, -1, 2, 1, -5, 4]\n",
      "i = 5, nums[i] + cur_s: 2 + 3\n",
      "cur_s, max_s: 5, 5 \n",
      "\n",
      "[-2, 1, -3, 4, -1, 2, 1, -5, 4]\n",
      "i = 6, nums[i] + cur_s: 1 + 5\n",
      "cur_s, max_s: 6, 6 \n",
      "\n",
      "[-2, 1, -3, 4, -1, 2, 1, -5, 4]\n",
      "i = 7, nums[i] + cur_s: -5 + 6\n",
      "cur_s, max_s: 1, 6 \n",
      "\n",
      "[-2, 1, -3, 4, -1, 2, 1, -5, 4]\n",
      "i = 8, nums[i] + cur_s: 4 + 1\n",
      "cur_s, max_s: 5, 6 \n",
      "\n",
      "6\n"
     ]
    }
   ],
   "source": [
    "nums = [-2,1,-3,4,-1,2,1,-5,4]  \n",
    "\n",
    "max_s = nums[0]\n",
    "cur_s = max_s\n",
    "\n",
    "for i in range(1, len(nums)):\n",
    "    print(nums)\n",
    "    print(f'i = {i}, nums[i] + cur_s: {nums[i]} + {cur_s}')\n",
    "    cur_s = max(nums[i] + cur_s, nums[i])\n",
    "    max_s = max(cur_s, max_s)\n",
    "    print(f'cur_s, max_s: {cur_s}, {max_s} \\n')\n",
    "print(max_s)\n"
   ]
  }
 ],
 "metadata": {
  "kernelspec": {
   "display_name": "general_env",
   "language": "python",
   "name": "python3"
  },
  "language_info": {
   "codemirror_mode": {
    "name": "ipython",
    "version": 3
   },
   "file_extension": ".py",
   "mimetype": "text/x-python",
   "name": "python",
   "nbconvert_exporter": "python",
   "pygments_lexer": "ipython3",
   "version": "3.11.4"
  }
 },
 "nbformat": 4,
 "nbformat_minor": 2
}
