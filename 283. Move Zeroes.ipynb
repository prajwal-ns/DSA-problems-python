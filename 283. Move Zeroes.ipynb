{
 "cells": [
  {
   "cell_type": "markdown",
   "metadata": {},
   "source": [
    "## 283. Move Zeroes"
   ]
  },
  {
   "cell_type": "markdown",
   "metadata": {},
   "source": [
    "Given an integer array nums, move all 0's to the end of it while maintaining the relative order of the non-zero elements.\n",
    "\n",
    "Note that you must do this in-place without making a copy of the array.\n",
    "\n",
    " \n",
    "\n",
    "Example 1:\n",
    "\n",
    "Input: nums = [0,1,0,3,12]  \n",
    "Output: [1,3,12,0,0]\n",
    "  \n",
    "  \n",
    "Example 2:\n",
    "\n",
    "Input: nums = [0]  \n",
    "Output: [0]"
   ]
  },
  {
   "cell_type": "code",
   "execution_count": 17,
   "metadata": {},
   "outputs": [],
   "source": [
    "nums = [0,1,0,3,12]"
   ]
  },
  {
   "cell_type": "code",
   "execution_count": 31,
   "metadata": {},
   "outputs": [
    {
     "data": {
      "text/plain": [
       "[1, 3, 12, 0, 0]"
      ]
     },
     "execution_count": 31,
     "metadata": {},
     "output_type": "execute_result"
    }
   ],
   "source": [
    "nums = [0,1,0,3,12]\n",
    "n = len(nums)\n",
    "temp = []\n",
    "temp2 = []\n",
    "for i in range(n):\n",
    "    if nums[i] != 0:\n",
    "        temp.append(nums[i])\n",
    "    else:\n",
    "        temp2.append(nums[i])\n",
    "nums = temp + temp2\n",
    "nums"
   ]
  },
  {
   "cell_type": "code",
   "execution_count": 33,
   "metadata": {},
   "outputs": [
    {
     "data": {
      "text/plain": [
       "[1, 3, 12, 0, 0]"
      ]
     },
     "execution_count": 33,
     "metadata": {},
     "output_type": "execute_result"
    }
   ],
   "source": [
    "nums = [0,1,0,3,12]\n",
    "n = len(nums)\n",
    "l= 0\n",
    "for r in range(n):\n",
    "    if nums[r] != 0:\n",
    "        nums[r], nums[l] = nums[l], nums[r]\n",
    "        l += 1\n",
    "nums\n"
   ]
  },
  {
   "cell_type": "code",
   "execution_count": 37,
   "metadata": {},
   "outputs": [
    {
     "name": "stdout",
     "output_type": "stream",
     "text": [
      "r: 0, l: 0 \n",
      " nums[0]:0 \n",
      " nums[0]: 0\n",
      "r: 1, l: 0 \n",
      " nums[1]:1 \n",
      " nums[0]: 0\n",
      "r: 2, l: 1 \n",
      " nums[2]:0 \n",
      " nums[1]: 0\n",
      "r: 3, l: 1 \n",
      " nums[3]:3 \n",
      " nums[1]: 0\n",
      "r: 4, l: 2 \n",
      " nums[4]:12 \n",
      " nums[2]: 0\n"
     ]
    },
    {
     "data": {
      "text/plain": [
       "[1, 3, 12, 0, 0]"
      ]
     },
     "execution_count": 37,
     "metadata": {},
     "output_type": "execute_result"
    }
   ],
   "source": [
    "nums = [0,1,0,3,12]\n",
    "n = len(nums)\n",
    "l= 0\n",
    "for r in range(n):\n",
    "    print(f'r: {r}, l: {l} \\n nums[{r}]:{nums[r]} \\n nums[{l}]: {nums[l]}')\n",
    "    if nums[r] != 0:\n",
    "        nums[r], nums[l] = nums[l], nums[r]\n",
    "        l += 1\n",
    "nums"
   ]
  }
 ],
 "metadata": {
  "kernelspec": {
   "display_name": "general_env",
   "language": "python",
   "name": "python3"
  },
  "language_info": {
   "codemirror_mode": {
    "name": "ipython",
    "version": 3
   },
   "file_extension": ".py",
   "mimetype": "text/x-python",
   "name": "python",
   "nbconvert_exporter": "python",
   "pygments_lexer": "ipython3",
   "version": "3.11.4"
  }
 },
 "nbformat": 4,
 "nbformat_minor": 2
}
