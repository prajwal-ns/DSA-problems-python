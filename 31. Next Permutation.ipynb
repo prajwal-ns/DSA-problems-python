{
 "cells": [
  {
   "cell_type": "markdown",
   "id": "c43beca2",
   "metadata": {},
   "source": [
    "31. Next Permutation  \n",
    "\n",
    "[LC Link](https://leetcode.com/problems/next-permutation/description/)\n",
    "\n",
    "A permutation of an array of integers is an arrangement of its members into a sequence or linear order.  \n",
    "\n",
    "For example, for arr = [1,2,3], the following are all the permutations of arr: [1,2,3], [1,3,2], [2, 1, 3], [2, 3, 1], [3,1,2], [3,2,1].\n",
    "The next permutation of an array of integers is the next lexicographically greater permutation of its integer. More formally, if all the permutations of the array are sorted in one container according to their lexicographical order, then the next permutation of that array is the permutation that follows it in the sorted container. If such arrangement is not possible, the array must be rearranged as the lowest possible order (i.e., sorted in ascending order).  \n",
    "\n",
    "For example, the next permutation of arr = [1,2,3] is [1,3,2].  \n",
    "Similarly, the next permutation of arr = [2,3,1] is [3,1,2].  \n",
    "While the next permutation of arr = [3,2,1] is [1,2,3] because [3,2,1] does not have a lexicographical larger rearrangement.  \n",
    "Given an array of integers nums, find the next permutation of nums.  \n",
    "\n",
    "The replacement must be in place and use only constant extra memory.  "
   ]
  },
  {
   "cell_type": "code",
   "execution_count": 1,
   "id": "153b7fc3",
   "metadata": {},
   "outputs": [],
   "source": [
    "arr = [1,2,3]"
   ]
  },
  {
   "cell_type": "code",
   "execution_count": 9,
   "id": "032d93ce",
   "metadata": {},
   "outputs": [
    {
     "name": "stdout",
     "output_type": "stream",
     "text": [
      "<itertools.permutations object at 0x000001E3791818F0> \n",
      " [(1, 2, 3), (1, 3, 2), (2, 1, 3), (2, 3, 1), (3, 1, 2), (3, 2, 1)]\n",
      "[1, 2, 3]\n",
      "[1, 3, 2]\n",
      "[2, 1, 3]\n",
      "[2, 3, 1]\n",
      "[3, 1, 2]\n",
      "[3, 2, 1]\n"
     ]
    }
   ],
   "source": [
    "## Ways to create a permutation with given list\n",
    "import itertools\n",
    "\n",
    "all_permutations_iterator = itertools.permutations(arr)\n",
    "all_permutations_list = list(all_permutations_iterator)\n",
    "print(all_permutations_iterator, '\\n', all_permutations_list)\n",
    "\n",
    "for i in all_permutations_list:\n",
    "    print(list(i))"
   ]
  },
  {
   "cell_type": "code",
   "execution_count": 31,
   "id": "7abb8520",
   "metadata": {},
   "outputs": [
    {
     "name": "stdout",
     "output_type": "stream",
     "text": [
      "[2, 3, 0, 0, 1, 4, 5]\n"
     ]
    }
   ],
   "source": [
    "# arr = [1,2,3]\n",
    "arr = [2,1,5,4,3,0,0]\n",
    "n = len(arr)\n",
    "pivot_index = -1\n",
    "if n <= 1:\n",
    "    print(pivot_index)\n",
    "else:\n",
    "    for i in range(n-2, -1, -1):\n",
    "        # print(arr[i], arr[i+1], i)\n",
    "        if arr[i+1] > arr[i]:\n",
    "            pivot_index = i\n",
    "            # print(pivot_index)\n",
    "            break\n",
    "    if pivot_index == -1:\n",
    "        arr.reverse()\n",
    "    \n",
    "    for i in range(n-1, pivot_index, -1):\n",
    "        if arr[i] > arr[pivot_index]:\n",
    "            arr[i], arr[pivot_index] = arr[pivot_index], arr[i]\n",
    "            break\n",
    "    arr[pivot_index + 1:] = reversed(arr[pivot_index + 1:])\n",
    "\n",
    "    print(arr)\n",
    "\n"
   ]
  },
  {
   "cell_type": "code",
   "execution_count": null,
   "id": "22ac9803",
   "metadata": {},
   "outputs": [],
   "source": []
  }
 ],
 "metadata": {
  "kernelspec": {
   "display_name": "Python 3",
   "language": "python",
   "name": "python3"
  },
  "language_info": {
   "codemirror_mode": {
    "name": "ipython",
    "version": 3
   },
   "file_extension": ".py",
   "mimetype": "text/x-python",
   "name": "python",
   "nbconvert_exporter": "python",
   "pygments_lexer": "ipython3",
   "version": "3.11.9"
  }
 },
 "nbformat": 4,
 "nbformat_minor": 5
}
