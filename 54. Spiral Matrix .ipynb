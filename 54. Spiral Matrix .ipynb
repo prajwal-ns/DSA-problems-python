{
 "cells": [
  {
   "cell_type": "markdown",
   "id": "6fd0792d",
   "metadata": {},
   "source": [
    "### 54. Spiral Matrix  \n",
    "Given an m x n matrix, return all elements of the matrix in spiral order.  \n",
    "\n",
    "[LC Link](https://leetcode.com/problems/spiral-matrix/description/)\n",
    "\n",
    "Example 1:  \n",
    "Input: matrix = [[1,2,3],[4,5,6],[7,8,9]]  \n",
    "Output: [1,2,3,6,9,8,7,4,5]  \n",
    "\n",
    "Example 2:  \n",
    "Input: matrix = [[1,2,3,4],[5,6,7,8],[9,10,11,12]]  \n",
    "Output: [1,2,3,4,8,12,11,10,9,5,6,7]  \n",
    "\n",
    "Constraints:  \n",
    "m == matrix.length  \n",
    "n == matrix[i].length  \n",
    "1 <= m, n <= 10  \n",
    "-100 <= matrix[i][j] <= 100  "
   ]
  },
  {
   "cell_type": "code",
   "execution_count": 51,
   "id": "53bbb724",
   "metadata": {},
   "outputs": [
    {
     "name": "stdout",
     "output_type": "stream",
     "text": [
      "1 1\n",
      "1 1\n",
      "1 2\n"
     ]
    },
    {
     "data": {
      "text/plain": [
       "[1, 2, 3, 6, 9, 8, 7, 4, 5]"
      ]
     },
     "execution_count": 51,
     "metadata": {},
     "output_type": "execute_result"
    }
   ],
   "source": [
    "matrix = [[1,2,3],[4,5,6],[7,8,9]]  \n",
    "## Output: [1,2,3,6,9,8,7,4,5]  \n",
    "\n",
    "n, m = len(matrix), len(matrix[0])\n",
    "left, right, top, bottom = 0, m-1, 0, n-1\n",
    "lst = []\n",
    "while top <= bottom and left <= right:\n",
    "## left -> right\n",
    "    for i in range(left, right+1):\n",
    "        # print(left, right)\n",
    "        lst.append(matrix[top][i])\n",
    "    top += 1\n",
    "\n",
    "    ## top -> bottom\n",
    "    for i in range(top, bottom+1):\n",
    "        lst.append(matrix[i][right])\n",
    "        # print(i, right)\n",
    "    right -= 1\n",
    "\n",
    "    if top <= bottom:\n",
    "        ## right -> left\n",
    "        for i in range(right, left-1, -1):\n",
    "            # print(bottom, i)\n",
    "            lst.append(matrix[bottom][i])\n",
    "        bottom -= 1\n",
    "    print(bottom, top)\n",
    "\n",
    "    if left <= right:\n",
    "        ## bottom -> top\n",
    "        for i in range(bottom, top-1, -1):\n",
    "            print(i, top)\n",
    "            lst.append(matrix[i][left])\n",
    "        left += 1\n",
    "\n",
    "lst"
   ]
  }
 ],
 "metadata": {
  "kernelspec": {
   "display_name": "Python 3",
   "language": "python",
   "name": "python3"
  },
  "language_info": {
   "codemirror_mode": {
    "name": "ipython",
    "version": 3
   },
   "file_extension": ".py",
   "mimetype": "text/x-python",
   "name": "python",
   "nbconvert_exporter": "python",
   "pygments_lexer": "ipython3",
   "version": "3.11.9"
  }
 },
 "nbformat": 4,
 "nbformat_minor": 5
}
