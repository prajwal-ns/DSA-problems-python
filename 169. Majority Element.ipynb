{
 "cells": [
  {
   "cell_type": "markdown",
   "metadata": {},
   "source": [
    "### 169. Majority Element  \n",
    "[LC Link](https://leetcode.com/problems/majority-element/description/)  \n",
    "Given an array nums of size n, return the majority element.  \n",
    "The majority element is the element that appears more than ⌊n / 2⌋ times. You may assume that the majority element always exists in the array.   \n",
    "\n",
    "Example 1:  \n",
    "Input: nums = [3,2,3]  \n",
    "Output: 3  \n",
    "\n",
    "Example 2:  \n",
    "Input: nums = [2,2,1,1,1,2,2]  \n",
    "Output: 2"
   ]
  },
  {
   "cell_type": "code",
   "execution_count": null,
   "metadata": {},
   "outputs": [
    {
     "name": "stdout",
     "output_type": "stream",
     "text": [
      "1\n"
     ]
    }
   ],
   "source": [
    "# nums = [3,2,3]  \n",
    "nums = [1]  \n",
    "n = len(nums)\n",
    "m = int(n/2)\n",
    "hash_m = {}\n",
    "\n",
    "for i in range(n):\n",
    "    if n == 1:\n",
    "        print(1)\n",
    "        break\n",
    "    else:\n",
    "        if nums[i] in hash_m.keys():\n",
    "            hash_m[nums[i]] += 1\n",
    "            if hash_m[nums[i]]  > m:\n",
    "                print(nums[i])\n",
    "                break\n",
    "            else:\n",
    "                continue\n",
    "        else:\n",
    "            hash_m[nums[i]] = 1\n",
    "\n",
    "\n"
   ]
  },
  {
   "cell_type": "markdown",
   "metadata": {},
   "source": [
    "#### Moore's Voting Algorithm\n",
    "\n",
    "[video link](https://www.youtube.com/watch?v=nP_ns3uSh80)"
   ]
  },
  {
   "cell_type": "code",
   "execution_count": 47,
   "metadata": {},
   "outputs": [
    {
     "name": "stdout",
     "output_type": "stream",
     "text": [
      "3\n"
     ]
    }
   ],
   "source": [
    "nums = [3,2,3]  \n",
    "n = len(nums)\n",
    "cnt = 0\n",
    "if n == 1:\n",
    "    print(nums)\n",
    "else:\n",
    "    for i in range(n):\n",
    "        if cnt == 0:\n",
    "            cnt = 1\n",
    "            ele = nums[i]\n",
    "        elif nums[i] == ele:\n",
    "            cnt += 1\n",
    "        else:\n",
    "            cnt -= 1\n",
    "    cnt1 = 0 \n",
    "\n",
    "    for j in range(n):\n",
    "        if ele == nums[j]:\n",
    "            cnt1 += 1\n",
    "            if cnt1 > n/2:\n",
    "                print(nums[j])\n",
    "                break\n",
    "\n",
    "    "
   ]
  },
  {
   "cell_type": "code",
   "execution_count": 6,
   "metadata": {},
   "outputs": [
    {
     "name": "stdout",
     "output_type": "stream",
     "text": [
      "3\n"
     ]
    }
   ],
   "source": [
    "nums = [3,2,3]  \n",
    "d = {}\n",
    "m = 0\n",
    "m_v = None\n",
    "for _ in range(len(nums)):\n",
    "    if nums[_] in d:\n",
    "        d[nums[_]] += 1\n",
    "    else:\n",
    "        d[nums[_]] = 1\n",
    "for k,v in d.items():\n",
    "    if v > m:\n",
    "        m_v = k\n",
    "        m = v\n",
    "print(m_v)\n",
    "                \n",
    "        "
   ]
  }
 ],
 "metadata": {
  "kernelspec": {
   "display_name": "general_env",
   "language": "python",
   "name": "python3"
  },
  "language_info": {
   "codemirror_mode": {
    "name": "ipython",
    "version": 3
   },
   "file_extension": ".py",
   "mimetype": "text/x-python",
   "name": "python",
   "nbconvert_exporter": "python",
   "pygments_lexer": "ipython3",
   "version": "3.11.4"
  }
 },
 "nbformat": 4,
 "nbformat_minor": 2
}
