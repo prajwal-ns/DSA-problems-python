{
 "cells": [
  {
   "cell_type": "markdown",
   "id": "88159b83",
   "metadata": {},
   "source": [
    "### 73. Set Matrix Zeroes  \n",
    "[LC Link](https://leetcode.com/problems/set-matrix-zeroes/description/)  \n",
    "Given an m x n integer matrix matrix, if an element is 0, set its entire row and column to 0's.  \n",
    "You must do it in place.  \n",
    "\n",
    "Example 1:  \n",
    "Input: matrix = [[1,1,1],[1,0,1],[1,1,1]]  \n",
    "Output: [[1,0,1],[0,0,0],[1,0,1]]  \n",
    "\n",
    "Example 2:  \n",
    "Input: matrix = [[0,1,2,0],[3,4,5,2],[1,3,1,5]]  \n",
    "Output: [[0,0,0,0],[0,4,5,0],[0,3,1,0]]  \n",
    " "
   ]
  },
  {
   "cell_type": "code",
   "execution_count": 21,
   "id": "8f6ff8dd",
   "metadata": {},
   "outputs": [
    {
     "name": "stdout",
     "output_type": "stream",
     "text": [
      "0 0 0 0\n",
      "0 1 0 1\n",
      "0 2 0 1\n",
      "0 3 0 0\n",
      "1 0 1 0\n",
      "1 1 1 1\n",
      "1 2 1 1\n",
      "1 3 1 0\n",
      "2 0 1 0\n",
      "2 1 1 1\n",
      "2 2 1 1\n",
      "2 3 1 0\n"
     ]
    },
    {
     "data": {
      "text/plain": [
       "[[0, 0, 0, 0], [0, 4, 5, 0], [0, 3, 1, 0]]"
      ]
     },
     "execution_count": 21,
     "metadata": {},
     "output_type": "execute_result"
    }
   ],
   "source": [
    "# matrix = [[1,1,1],\n",
    "#           [1,0,1],\n",
    "#           [1,1,1]]\n",
    "matrix = [[0,1,2,0],[3,4,5,2],[1,3,1,5]]\n",
    "n = len(matrix)\n",
    "m = len(matrix[0])\n",
    "rw = [1]*m\n",
    "col = [1]*n\n",
    "for i in range(n):\n",
    "    for j in range(m):\n",
    "        if matrix[i][j] == 0:\n",
    "            rw[j], col[i] = 0, 0\n",
    "\n",
    "for i in range(n):\n",
    "    for j in range(m):\n",
    "        print(i,j, col[i], rw[j])\n",
    "        if (rw[j] == 0) or (col[i] == 0):\n",
    "            matrix[i][j] = 0\n",
    "        else:\n",
    "            continue\n",
    "matrix \n"
   ]
  },
  {
   "cell_type": "code",
   "execution_count": null,
   "id": "ba2c9f24",
   "metadata": {},
   "outputs": [],
   "source": []
  }
 ],
 "metadata": {
  "kernelspec": {
   "display_name": "Python 3",
   "language": "python",
   "name": "python3"
  },
  "language_info": {
   "codemirror_mode": {
    "name": "ipython",
    "version": 3
   },
   "file_extension": ".py",
   "mimetype": "text/x-python",
   "name": "python",
   "nbconvert_exporter": "python",
   "pygments_lexer": "ipython3",
   "version": "3.11.9"
  }
 },
 "nbformat": 4,
 "nbformat_minor": 5
}
