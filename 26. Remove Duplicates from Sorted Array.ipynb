{
 "cells": [
  {
   "cell_type": "markdown",
   "metadata": {},
   "source": [
    "## Remove Duplicates from Sorted Array\n",
    "Link: [Leetcode link](https://leetcode.com/problems/remove-duplicates-from-sorted-array/description/)\n",
    "\n",
    "Example 1:\n",
    "\n",
    "Input: nums = [1,1,2]\n",
    "Output: 2, nums = [1,2,_]  \n",
    "Explanation: Your function should return k = 2, with the first two elements of nums being 1 and 2 respectively.  \n",
    "It does not matter what you leave beyond the returned k (hence they are underscores).  \n",
    "  \n",
    "Example 2:    \n",
    "Input: nums = [0,0,1,1,1,2,2,3,3,4]  \n",
    "Output: 5, nums = [0,1,2,3,4,_,_,_,_,_]  \n",
    "Explanation: Your function should return k = 5, with the first five elements of nums being 0, 1, 2, 3, and 4 respectively.  \n",
    "It does not matter what you leave beyond the returned k (hence they are underscores).  \n",
    " "
   ]
  },
  {
   "cell_type": "code",
   "execution_count": 30,
   "metadata": {},
   "outputs": [],
   "source": [
    "nums = [0,0,1,1,1,2,2,3,3,4]"
   ]
  },
  {
   "cell_type": "code",
   "execution_count": 31,
   "metadata": {},
   "outputs": [
    {
     "name": "stdout",
     "output_type": "stream",
     "text": [
      "5 [0, 1, 2, 3, 4, '_', '_', '_', '_', '_']\n"
     ]
    }
   ],
   "source": [
    "n = len(nums)\n",
    "i = 0\n",
    "for j in range(1, n):\n",
    "    if nums[j] != nums[i]:\n",
    "        i += 1\n",
    "        nums[i] = nums[j]\n",
    "for k in range(i+1, n):\n",
    "    nums[k] = '_'\n",
    "print(i+1, nums)"
   ]
  }
 ],
 "metadata": {
  "kernelspec": {
   "display_name": "general_env",
   "language": "python",
   "name": "python3"
  },
  "language_info": {
   "codemirror_mode": {
    "name": "ipython",
    "version": 3
   },
   "file_extension": ".py",
   "mimetype": "text/x-python",
   "name": "python",
   "nbconvert_exporter": "python",
   "pygments_lexer": "ipython3",
   "version": "3.11.4"
  }
 },
 "nbformat": 4,
 "nbformat_minor": 2
}
