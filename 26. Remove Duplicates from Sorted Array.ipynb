{
 "cells": [
  {
   "cell_type": "markdown",
   "metadata": {},
   "source": [
    "## Remove Duplicates from Sorted Array\n",
    "Link: [Leetcode link](https://leetcode.com/problems/remove-duplicates-from-sorted-array/description/)\n",
    "\n",
    "Example 1:\n",
    "\n",
    "Input: nums = [1,1,2]\n",
    "Output: 2, nums = [1,2,_]  \n",
    "Explanation: Your function should return k = 2, with the first two elements of nums being 1 and 2 respectively.  \n",
    "It does not matter what you leave beyond the returned k (hence they are underscores).  \n",
    "  \n",
    "Example 2:    \n",
    "Input: nums = [0,0,1,1,1,2,2,3,3,4]  \n",
    "Output: 5, nums = [0,1,2,3,4,_,_,_,_,_]  \n",
    "Explanation: Your function should return k = 5, with the first five elements of nums being 0, 1, 2, 3, and 4 respectively.  \n",
    "It does not matter what you leave beyond the returned k (hence they are underscores).  \n",
    " "
   ]
  },
  {
   "cell_type": "code",
   "execution_count": 12,
   "metadata": {},
   "outputs": [],
   "source": [
    "nums = [0,0,1,1,1,2,2,3,3,4]"
   ]
  },
  {
   "cell_type": "code",
   "execution_count": 31,
   "metadata": {},
   "outputs": [
    {
     "name": "stdout",
     "output_type": "stream",
     "text": [
      "5 [0, 1, 2, 3, 4, '_', '_', '_', '_', '_']\n"
     ]
    }
   ],
   "source": [
    "n = len(nums)\n",
    "i = 0\n",
    "for j in range(1, n):\n",
    "    if nums[j] != nums[i]:\n",
    "        i += 1\n",
    "        nums[i] = nums[j]\n",
    "for k in range(i+1, n):\n",
    "    nums[k] = '_'\n",
    "print(i+1, nums)"
   ]
  },
  {
   "cell_type": "code",
   "execution_count": 13,
   "metadata": {},
   "outputs": [
    {
     "name": "stdout",
     "output_type": "stream",
     "text": [
      "i:  0\n",
      "j:  1\n",
      "nums[0]:  0 nums[1]:  0\n",
      "\n",
      "\n",
      "i:  0\n",
      "j:  2\n",
      "nums[0]:  0 nums[2]:  1\n",
      "\n",
      "\n",
      "i:  1\n",
      "j:  3\n",
      "nums[1]:  1 nums[3]:  1\n",
      "\n",
      "\n",
      "i:  1\n",
      "j:  4\n",
      "nums[1]:  1 nums[4]:  1\n",
      "\n",
      "\n",
      "i:  1\n",
      "j:  5\n",
      "nums[1]:  1 nums[5]:  2\n",
      "\n",
      "\n",
      "i:  2\n",
      "j:  6\n",
      "nums[2]:  2 nums[6]:  2\n",
      "\n",
      "\n",
      "i:  2\n",
      "j:  7\n",
      "nums[2]:  2 nums[7]:  3\n",
      "\n",
      "\n",
      "i:  3\n",
      "j:  8\n",
      "nums[3]:  3 nums[8]:  3\n",
      "\n",
      "\n",
      "i:  3\n",
      "j:  9\n",
      "nums[3]:  3 nums[9]:  4\n",
      "\n",
      "\n"
     ]
    }
   ],
   "source": [
    "n = len(nums)\n",
    "i = 0\n",
    "for j in range(1, n):\n",
    "    print('i: ', i)\n",
    "    print('j: ', j)\n",
    "    print(f'nums[{i}]: ', nums[i], f'nums[{j}]: ', nums[j])\n",
    "    print('\\n')\n",
    "    ## enters the loop if the next number is != current number, and changes the array allocation\n",
    "    if nums[j] != nums[i]:\n",
    "        i += 1\n",
    "        nums[i] = nums[j]"
   ]
  }
 ],
 "metadata": {
  "kernelspec": {
   "display_name": "general_env",
   "language": "python",
   "name": "python3"
  },
  "language_info": {
   "codemirror_mode": {
    "name": "ipython",
    "version": 3
   },
   "file_extension": ".py",
   "mimetype": "text/x-python",
   "name": "python",
   "nbconvert_exporter": "python",
   "pygments_lexer": "ipython3",
   "version": "3.11.4"
  }
 },
 "nbformat": 4,
 "nbformat_minor": 2
}
