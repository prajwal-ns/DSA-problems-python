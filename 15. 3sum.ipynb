{
 "cells": [
  {
   "cell_type": "markdown",
   "id": "4a8dbb93",
   "metadata": {},
   "source": [
    "15. 3Sum  \n",
    "\n",
    "[LC Link](https://leetcode.com/problems/3sum/description/)  \n",
    "\n",
    "Given an integer array nums, return all the triplets [nums[i], nums[j], nums[k]] such that i != j, i != k, and j != k, and nums[i] + nums[j] + nums[k] == 0.  \n",
    "\n",
    "Notice that the solution set must not contain duplicate triplets.  \n",
    "\n",
    "Example 1:  \n",
    "Input: nums = [-1,0,1,2,-1,-4]  \n",
    "Output: [[-1,-1,2],[-1,0,1]]  \n",
    "Explanation:  \n",
    "nums[0] + nums[1] + nums[2] = (-1) + 0 + 1 = 0.  \n",
    "nums[1] + nums[2] + nums[4] = 0 + 1 + (-1) = 0.  \n",
    "nums[0] + nums[3] + nums[4] = (-1) + 2 + (-1) = 0.  \n",
    "The distinct triplets are [-1,0,1] and [-1,-1,2].  \n",
    "Notice that the order of the output and the order of the triplets does not matter.  \n",
    "\n",
    "Example 2:  \n",
    "Input: nums = [0,1,1]  \n",
    "Output: []  \n",
    "Explanation: The only possible triplet does not sum up to 0.  \n",
    "\n",
    "Example 3:  \n",
    "Input: nums = [0,0,0]  \n",
    "Output: [[0,0,0]]  \n",
    "Explanation: The only possible triplet sums up to 0.  "
   ]
  },
  {
   "cell_type": "code",
   "execution_count": 65,
   "id": "288b564f",
   "metadata": {},
   "outputs": [
    {
     "data": {
      "text/plain": [
       "[[-1, 0, 1], [-1, -1, 2]]"
      ]
     },
     "execution_count": 65,
     "metadata": {},
     "output_type": "execute_result"
    }
   ],
   "source": [
    "## Brute force approach where time limit will exceed, lol!\n",
    "\n",
    "nums = [-1,0,1,2,-1,-4]\n",
    "# Output: [[-1,-1,2],[-1,0,1]]\n",
    "\n",
    "n = len(nums)\n",
    "st = set(())\n",
    "\n",
    "for i in range(n):\n",
    "    for j in range(i+1, n):\n",
    "        for k in range(j+1, n):\n",
    "            if nums[i] + nums[j] + nums[k] == 0:\n",
    "                temp = tuple(sorted([nums[i], nums[j], nums[k]]))\n",
    "                # temp = tuple((temp))\n",
    "                st.add(temp)\n",
    "                # lst = list(set(lst))\n",
    "lst = [list(item) for item in st]\n",
    "lst\n"
   ]
  },
  {
   "cell_type": "code",
   "execution_count": 75,
   "id": "d76f10f5",
   "metadata": {},
   "outputs": [
    {
     "data": {
      "text/plain": [
       "[[-1, 0, 1], [-1, -1, 2]]"
      ]
     },
     "execution_count": 75,
     "metadata": {},
     "output_type": "execute_result"
    }
   ],
   "source": [
    "## Better but time limit will be exceeded, lol, again!!\n",
    "nums = [-1,0,1,2,-1,-4]\n",
    "# Output: [[-1,-1,2],[-1,0,1]]\n",
    "\n",
    "n = len(nums)\n",
    "st = set(())\n",
    "hash_map = {}\n",
    "st = set(())\n",
    "\n",
    "for i in range(n):\n",
    "    for j in range(i+1, n):\n",
    "        k = -1 * (nums[i] + nums[j])\n",
    "        # print(k)\n",
    "        if k in hash_map:\n",
    "            temp = tuple(sorted([nums[i], nums[j], k]))\n",
    "                # temp = tuple((temp))\n",
    "            st.add(temp)\n",
    "            # print(st)\n",
    "        else:\n",
    "            hash_map[nums[j]] = j\n",
    "    hash_map = {}\n",
    "lst = [list(item) for item in st]\n",
    "lst"
   ]
  },
  {
   "cell_type": "code",
   "execution_count": 115,
   "id": "ec12c7ce",
   "metadata": {},
   "outputs": [
    {
     "name": "stdout",
     "output_type": "stream",
     "text": [
      "[-2, 0, 1, 1, 2]\n"
     ]
    },
    {
     "data": {
      "text/plain": [
       "[[-2, 0, 2], [-2, 1, 1]]"
      ]
     },
     "execution_count": 115,
     "metadata": {},
     "output_type": "execute_result"
    }
   ],
   "source": [
    "# nums = [-1,0,1,2,-1,-4]\n",
    "nums = [-2,0,1,1,2]\n",
    "# Output: [[-1,-1,2],[-1,0,1]]\n",
    "# t_sum = float('-inf')\n",
    "n = len(nums)\n",
    "nums = sorted(nums)\n",
    "lst = []\n",
    "print(nums)\n",
    "for i in range(n):\n",
    "    if i != 0 and nums[i] == nums[i-1]:\n",
    "        continue\n",
    "    # print(f\"{nums[i]} == {nums[i-1]}\")\n",
    "    # print(i)\n",
    "    j = i + 1\n",
    "    k = n - 1\n",
    "    while j < k:\n",
    "        t_sum = nums[i] + nums[j] + nums[k]\n",
    "\n",
    "        if t_sum < 0:\n",
    "            j += 1\n",
    "        elif t_sum > 0:\n",
    "            k -= 1\n",
    "        else:\n",
    "            # print(f\"{t_sum} = {nums[i]} + {nums[j]} + {nums[k]}\")\n",
    "            temp = [nums[i], nums[j], nums[k]]\n",
    "            lst.append(temp)\n",
    "            j += 1\n",
    "            k -= 1\n",
    "            while j < k and nums[j] == nums[j-1]:\n",
    "                j += 1\n",
    "            while j < k and nums[k] == nums[k+1]:\n",
    "                k -= 1\n",
    "lst\n"
   ]
  },
  {
   "cell_type": "code",
   "execution_count": 111,
   "id": "9ec384e4",
   "metadata": {},
   "outputs": [
    {
     "name": "stdout",
     "output_type": "stream",
     "text": [
      "[-2, 0, 1, 1, 2]\n"
     ]
    },
    {
     "data": {
      "text/plain": [
       "[[-2, 0, 2], [-2, 1, 1]]"
      ]
     },
     "execution_count": 111,
     "metadata": {},
     "output_type": "execute_result"
    }
   ],
   "source": [
    "arr = [-2,0,1,1,2]\n",
    "ans = []\n",
    "arr.sort()\n",
    "print(arr)\n",
    "for i in range(n):\n",
    "    # remove duplicates:\n",
    "    if i != 0 and arr[i] == arr[i - 1]:\n",
    "        continue\n",
    "\n",
    "    # moving 2 pointers:\n",
    "    j = i + 1\n",
    "    k = n - 1\n",
    "    while j < k:\n",
    "        total_sum = arr[i] + arr[j] + arr[k]\n",
    "        if total_sum < 0:\n",
    "            j += 1\n",
    "        elif total_sum > 0:\n",
    "            k -= 1\n",
    "        else:\n",
    "            temp = [arr[i], arr[j], arr[k]]\n",
    "            ans.append(temp)\n",
    "            j += 1\n",
    "            k -= 1\n",
    "            # skip the duplicates:\n",
    "            while j < k and arr[j] == arr[j - 1]:\n",
    "                j += 1\n",
    "            while j < k and arr[k] == arr[k + 1]:\n",
    "                k -= 1\n",
    "ans\n",
    "\n"
   ]
  }
 ],
 "metadata": {
  "kernelspec": {
   "display_name": "general_env",
   "language": "python",
   "name": "python3"
  },
  "language_info": {
   "codemirror_mode": {
    "name": "ipython",
    "version": 3
   },
   "file_extension": ".py",
   "mimetype": "text/x-python",
   "name": "python",
   "nbconvert_exporter": "python",
   "pygments_lexer": "ipython3",
   "version": "3.11.4"
  }
 },
 "nbformat": 4,
 "nbformat_minor": 5
}
