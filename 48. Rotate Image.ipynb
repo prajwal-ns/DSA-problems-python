{
 "cells": [
  {
   "cell_type": "markdown",
   "id": "31eb9cb6",
   "metadata": {},
   "source": [
    "### 48. Rotate Image\n",
    "\n",
    "[LC Link](https://leetcode.com/problems/rotate-image/description/)\n",
    "\n",
    "You are given an n x n 2D matrix representing an image, rotate the image by 90 degrees (clockwise).  \n",
    "\n",
    "You have to rotate the image in-place, which means you have to modify the input 2D matrix directly. DO NOT allocate another 2D matrix and do the rotation.  \n",
    "\n",
    "Example 1:  \n",
    "Input: matrix = [[1,2,3],[4,5,6],[7,8,9]]  \n",
    "Output: [[7,4,1],[8,5,2],[9,6,3]]  \n",
    "\n",
    "Example 2:  \n",
    "Input: matrix = [[5,1,9,11],[2,4,8,10],[13,3,6,7],[15,14,12,16]]  \n",
    "Output: [[15,13,2,5],[14,3,4,1],[12,6,8,9],[16,7,10,11]]  \n",
    " \n",
    "Constraints:  \n",
    "n == matrix.length == matrix[i].length   \n",
    "1 <= n <= 20  \n",
    "-1000 <= matrix[i][j] <= 1000  "
   ]
  },
  {
   "cell_type": "code",
   "execution_count": 17,
   "id": "f910e7ca",
   "metadata": {},
   "outputs": [],
   "source": [
    "import copy"
   ]
  },
  {
   "cell_type": "code",
   "execution_count": 32,
   "id": "760540fa",
   "metadata": {},
   "outputs": [
    {
     "name": "stdout",
     "output_type": "stream",
     "text": [
      "[[15, 13, 2, 5], [14, 3, 4, 1], [12, 6, 8, 9], [16, 7, 10, 11]] \n",
      " [[5, 1, 9, 11], [2, 4, 8, 10], [13, 3, 6, 7], [15, 14, 12, 16]]\n"
     ]
    }
   ],
   "source": [
    "## Brute force approach\n",
    "\n",
    "# matrix = [[1,2,3],\n",
    "#           [4,5,6],\n",
    "#           [7,8,9]]\n",
    "matrix = [[5,1,9,11],\n",
    "          [2,4,8,10],\n",
    "          [13,3,6,7],\n",
    "          [15,14,12,16]] \n",
    "'''\n",
    "Output: [[7,4,1],\n",
    "        [8,5,2],\n",
    "        [9,6,3]]  \n",
    "        [[15,13,2,5],\n",
    "        [14,3,4,1],\n",
    "        [12,6,8,9],\n",
    "        [16,7,10,11]]  \n",
    "'''\n",
    "\n",
    "m = len(matrix)\n",
    "n = len(matrix[0])\n",
    "m2 = copy.deepcopy(matrix) ## creating a deep copy\n",
    "for i in range(m):\n",
    "    for j in range(n):\n",
    "        ## pattern is all the ith element of original matrix traverse from 0 - n-1 \n",
    "        ## but jth element has pattern of (m-1-i)\n",
    "        m2[j][m-1-i] = matrix[i][j]\n",
    "print(m2, '\\n', matrix)"
   ]
  },
  {
   "cell_type": "code",
   "execution_count": 55,
   "id": "b7c8ac21",
   "metadata": {},
   "outputs": [
    {
     "name": "stdout",
     "output_type": "stream",
     "text": [
      "[[1, 2, 3], [4, 5, 6], [7, 8, 9]] \n",
      "\n",
      "[[1, 2, 3], [4, 5, 6], [7, 8, 9]]\n",
      "2, 4 = 4, 2 ; i, j = 0, 1\n",
      "[[1, 4, 3], [2, 5, 6], [7, 8, 9]] \n",
      "\n",
      "[[1, 4, 3], [2, 5, 6], [7, 8, 9]]\n",
      "3, 7 = 7, 3 ; i, j = 0, 2\n",
      "[[1, 4, 7], [2, 5, 6], [3, 8, 9]] \n",
      "\n",
      "[[1, 4, 7], [2, 5, 6], [3, 8, 9]]\n",
      "6, 8 = 8, 6 ; i, j = 1, 2\n",
      "[[1, 4, 7], [2, 5, 8], [3, 6, 9]] \n",
      "\n",
      "result:[[7, 4, 1], [8, 5, 2], [9, 6, 3]]\n"
     ]
    }
   ],
   "source": [
    "## Optimal approach\n",
    "\n",
    "matrix = [[1,2,3],\n",
    "          [4,5,6],\n",
    "          [7,8,9]]\n",
    "# matrix = [[5,1,9,11],\n",
    "#           [2,4,8,10],\n",
    "#           [13,3,6,7],\n",
    "#           [15,14,12,16]] \n",
    "'''\n",
    "Output: [[7,4,1],\n",
    "        [8,5,2],\n",
    "        [9,6,3]]  \n",
    "        [[15,13,2,5],\n",
    "        [14,3,4,1],\n",
    "        [12,6,8,9],\n",
    "        [16,7,10,11]]  \n",
    "'''\n",
    "\n",
    "m = len(matrix) ## length of columns\n",
    "n = len(matrix[0]) ## length of rows\n",
    "\n",
    "## transposing the matrix\n",
    "print(matrix, '\\n')\n",
    "for i in range(m):\n",
    "    for j in range(i+1,n): ## as we don't need to swap elements twice which will be back to same place\n",
    "        if i != j:\n",
    "            print(matrix)\n",
    "            print(f\"{matrix[i][j]}, {matrix[j][i]} = {matrix[j][i]}, {matrix[i][j]} ; i, j = {i}, {j}\")\n",
    "            matrix[i][j], matrix[j][i] = matrix[j][i], matrix[i][j]\n",
    "            print(matrix, '\\n')\n",
    "for i in range(n):\n",
    "    matrix[i].reverse()\n",
    "print(f\"result:{matrix}\")\n",
    "\n"
   ]
  }
 ],
 "metadata": {
  "kernelspec": {
   "display_name": "Python 3",
   "language": "python",
   "name": "python3"
  },
  "language_info": {
   "codemirror_mode": {
    "name": "ipython",
    "version": 3
   },
   "file_extension": ".py",
   "mimetype": "text/x-python",
   "name": "python",
   "nbconvert_exporter": "python",
   "pygments_lexer": "ipython3",
   "version": "3.11.9"
  }
 },
 "nbformat": 4,
 "nbformat_minor": 5
}
