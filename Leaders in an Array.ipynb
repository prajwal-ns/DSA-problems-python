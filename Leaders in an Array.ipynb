{
 "cells": [
  {
   "cell_type": "markdown",
   "id": "60b74755",
   "metadata": {},
   "source": [
    "### Leaders in an Array  \n",
    "\n",
    "[Link](https://www.geeksforgeeks.org/dsa/leaders-in-an-array/)  \n",
    "  \n",
    "Given an integer array nums, return a list of all the leaders in the array.  \n",
    "\n",
    "A leader in an array is an element whose value is strictly greater than all elements to its right in the given array. The rightmost element is always a leader. The elements in the leader array must appear in the order they appear in the nums array.  \n",
    "\n",
    "\n",
    "Examples:  \n",
    "Input: nums = [1, 2, 5, 3, 1, 2]  \n",
    "\n",
    "Output: [5, 3, 2]  \n",
    "\n",
    "Explanation: 2 is the rightmost element, 3 is the largest element in the index range [3, 5], 5 is the largest element in the index range [2, 5]  \n",
    "\n",
    "Input: nums = [-3, 4, 5, 1, -4, -5]  \n",
    "\n",
    "Output: [5, 1, -4, -5]  \n",
    "\n",
    "Explanation: -5 is the rightmost element, -4 is the largest element in the index range [4, 5], 1 is the largest element in the index range [3, 5] and 5 is the largest element in the range [2, 5]  "
   ]
  },
  {
   "cell_type": "code",
   "execution_count": 13,
   "id": "365fedee",
   "metadata": {},
   "outputs": [
    {
     "data": {
      "text/plain": [
       "[5, 1, -4, -5]"
      ]
     },
     "execution_count": 13,
     "metadata": {},
     "output_type": "execute_result"
    }
   ],
   "source": [
    "# nums = [1, 2, 5, 3, 1, 2]\n",
    "nums =  [-3, 4, 5, 1, -4, -5]\n",
    "# nums =  [16, 17, 4, 3, 5, 2]\n",
    "# nums = [1, 2, 3, 4, 5, 2]\n",
    "max_ele = float('-inf')\n",
    "n = len(nums)\n",
    "lst = []\n",
    "for i in range(n-1, -1, -1):\n",
    "    if nums[i] > max_ele:\n",
    "        max_ele = nums[i]\n",
    "        lst.append(max_ele)\n",
    "lst.reverse()\n",
    "lst\n"
   ]
  }
 ],
 "metadata": {
  "kernelspec": {
   "display_name": "Python 3",
   "language": "python",
   "name": "python3"
  },
  "language_info": {
   "codemirror_mode": {
    "name": "ipython",
    "version": 3
   },
   "file_extension": ".py",
   "mimetype": "text/x-python",
   "name": "python",
   "nbconvert_exporter": "python",
   "pygments_lexer": "ipython3",
   "version": "3.11.9"
  }
 },
 "nbformat": 4,
 "nbformat_minor": 5
}
