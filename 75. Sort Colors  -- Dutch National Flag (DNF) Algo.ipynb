{
 "cells": [
  {
   "cell_type": "markdown",
   "metadata": {},
   "source": [
    "### 75. Sort Colors  -- Dutch National Flag (DNF) Algo\n",
    "\n",
    "Given an array nums with n objects colored red, white, or blue, sort them in-place so that objects of the same color are adjacent, with the colors in the order red, white, and blue.  \n",
    "\n",
    "We will use the integers 0, 1, and 2 to represent the color red, white, and blue, respectively.  \n",
    "\n",
    "You must solve this problem without using the library's sort function.  \n",
    "\n",
    "Example 1:  \n",
    "Input: nums = [2,0,2,1,1,0]  \n",
    "Output: [0,0,1,1,2,2]  \n",
    "\n",
    "Example 2:  \n",
    "Input: nums = [2,0,1]  \n",
    "Output: [0,1,2]"
   ]
  },
  {
   "cell_type": "code",
   "execution_count": 19,
   "metadata": {},
   "outputs": [
    {
     "data": {
      "text/plain": [
       "[0, 1, 2]"
      ]
     },
     "execution_count": 19,
     "metadata": {},
     "output_type": "execute_result"
    }
   ],
   "source": [
    "## Approach - 1\n",
    "# nums = [2,0,2,1,1,0]  \n",
    "nums = [2,0,1]  \n",
    "n = len(nums)\n",
    "count0 = 0\n",
    "count1 = 0\n",
    "count2 = 0\n",
    "\n",
    "def swap(k,strt, end):\n",
    "    for j in range(strt, end):\n",
    "        nums[j] = k\n",
    "\n",
    "for i in range(n):\n",
    "    if nums[i] == 0:\n",
    "        count0 += 1\n",
    "    elif nums[i] == 1:\n",
    "        count1 += 1\n",
    "    else:\n",
    "        count2 += 1\n",
    "\n",
    "swap(0, 0, count0)\n",
    "swap(1, count0, count1+count0)\n",
    "swap(2, count1+count0, count1+count0+count2)\n",
    "nums"
   ]
  },
  {
   "cell_type": "markdown",
   "metadata": {},
   "source": [
    "### Dutch National Flag (DNF) Algo\n",
    "\n",
    "Striver explains this very well: [video link](https://www.youtube.com/watch?v=tp8JIuCXBaU)"
   ]
  },
  {
   "cell_type": "code",
   "execution_count": 23,
   "metadata": {},
   "outputs": [
    {
     "data": {
      "text/plain": [
       "[0, 1, 2]"
      ]
     },
     "execution_count": 23,
     "metadata": {},
     "output_type": "execute_result"
    }
   ],
   "source": [
    "## Approach - 2\n",
    "# Dutch National Flag (DNF) Algo\n",
    "# nums = [2,0,2,1,1,0]  \n",
    "nums = [2,0,1]  \n",
    "n = len(nums)\n",
    "low = 0\n",
    "high = n-1\n",
    "mid = 0\n",
    "for i in range(n):\n",
    "    if nums[mid] == 0:\n",
    "        nums[mid], nums[low] = nums[low], nums[mid]\n",
    "        low += 1\n",
    "        mid += 1\n",
    "    elif nums[mid] == 1:\n",
    "        mid += 1\n",
    "    else:\n",
    "        nums[mid], nums[high] = nums[high], nums[mid]\n",
    "        high -= 1\n",
    "nums\n"
   ]
  }
 ],
 "metadata": {
  "kernelspec": {
   "display_name": "general_env",
   "language": "python",
   "name": "python3"
  },
  "language_info": {
   "codemirror_mode": {
    "name": "ipython",
    "version": 3
   },
   "file_extension": ".py",
   "mimetype": "text/x-python",
   "name": "python",
   "nbconvert_exporter": "python",
   "pygments_lexer": "ipython3",
   "version": "3.11.4"
  }
 },
 "nbformat": 4,
 "nbformat_minor": 2
}
