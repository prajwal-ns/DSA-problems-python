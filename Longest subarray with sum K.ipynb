{
 "cells": [
  {
   "cell_type": "markdown",
   "id": "9684abf0",
   "metadata": {},
   "source": [
    "### Longest subarray with sum K\n",
    "\n",
    "Given an array nums of size n and an integer k, find the length of the longest sub-array that sums to k. If no such sub-array exists, return 0.\n",
    "\n",
    "\n",
    "Examples:\n",
    "Input: nums = [10, 5, 2, 7, 1, 9],  k=15\n",
    "\n",
    "Output: 4\n",
    "\n",
    "Explanation: The longest sub-array with a sum equal to 15 is [5, 2, 7, 1], which has a length of 4. This sub-array starts at index 1 and ends at index 4, and the sum of its elements (5 + 2 + 7 + 1) equals 15. Therefore, the length of this sub-array is 4.\n",
    "\n",
    "Input: nums = [-3, 2, 1], k=6\n",
    "\n",
    "Output: 0\n",
    "\n",
    "Explanation: There is no sub-array in the array that sums to 6. Therefore, the output is 0."
   ]
  },
  {
   "cell_type": "code",
   "execution_count": 1,
   "id": "7ad47649",
   "metadata": {},
   "outputs": [],
   "source": [
    "nums = [10, 5, 2, 7, 1, 9]\n",
    "k=15"
   ]
  },
  {
   "cell_type": "code",
   "execution_count": 10,
   "id": "219c0588",
   "metadata": {},
   "outputs": [
    {
     "data": {
      "text/plain": [
       "4"
      ]
     },
     "execution_count": 10,
     "metadata": {},
     "output_type": "execute_result"
    }
   ],
   "source": [
    "## Brute force approach\n",
    "\n",
    "n= len(nums)\n",
    "length = 0\n",
    "\n",
    "for i in range(n):\n",
    "    s = 0\n",
    "    \n",
    "    for j in range(i, n):\n",
    "        s += nums[j]\n",
    "        if s == k:\n",
    "            length = max(length, j-i+1)\n",
    "length"
   ]
  },
  {
   "cell_type": "code",
   "execution_count": 54,
   "id": "fec55316",
   "metadata": {},
   "outputs": [
    {
     "name": "stdout",
     "output_type": "stream",
     "text": [
      "10 {0: 1}\n",
      "15 {0: 1, 10: 1}\n",
      "c:0\n",
      "c += hash_map[curr_sum - k]: 0 = 0 + 1\n",
      "c:0\n",
      "17 {0: 1, 10: 1, 15: 1}\n",
      "24 {0: 1, 10: 1, 15: 1, 17: 1}\n",
      "25 {0: 1, 10: 1, 15: 1, 17: 1, 24: 1}\n",
      "c:1\n",
      "c += hash_map[curr_sum - k]: 1 = 1 + 1\n",
      "c:1\n",
      "34 {0: 1, 10: 1, 15: 1, 17: 1, 24: 1, 25: 1}\n"
     ]
    },
    {
     "data": {
      "text/plain": [
       "2"
      ]
     },
     "execution_count": 54,
     "metadata": {},
     "output_type": "execute_result"
    }
   ],
   "source": [
    "## Using Prefix-Hashmap to count the number of sub arrays\n",
    "nums = [10, 5, 2, 7, 1, 9]\n",
    "# nums = [1,2,3,-3,1,1,1,4,2,-3]\n",
    "k=15\n",
    "curr_sum = 0\n",
    "pre_sum = 0\n",
    "length = 0\n",
    "n = len(nums)\n",
    "hash_map = {0:1}\n",
    "c = 0\n",
    "for i in range(n):\n",
    "    curr_sum += nums[i]\n",
    "    print(curr_sum, hash_map)\n",
    "    if curr_sum - k in hash_map:\n",
    "        print(f\"c:{c}\")\n",
    "        print(f\"c += hash_map[curr_sum - k]: {c} = {c} + {hash_map[curr_sum - k]}\")\n",
    "        print(f\"c:{c}\")\n",
    "        c += hash_map[curr_sum - k]\n",
    "\n",
    "    hash_map[curr_sum] = hash_map.get(curr_sum, 0) + 1\n",
    "c"
   ]
  },
  {
   "cell_type": "code",
   "execution_count": 69,
   "id": "1c16ced0",
   "metadata": {},
   "outputs": [
    {
     "name": "stdout",
     "output_type": "stream",
     "text": [
      "0 10\n",
      "target = curr_sum - k: 19 = 10 - 15 \n",
      "1. hash_map: {0: -1}\n",
      "2. hash_map: {0: -1, 10: 0} \n",
      "\n",
      "1 5\n",
      "target = curr_sum - k: -5 = 15 - 15 \n",
      "1. hash_map: {0: -1, 10: 0}\n",
      "3. hash_map: {0: -1, 10: 0}\n",
      "start_index = hash_map[target]: 0 = -1\n",
      "curr_len = i - start_index: 0 = 1 - 0\n",
      "max_len = max(max_len, curr_len): 0 = 0\n",
      "3. hash_map: {0: -1, 10: 0}\n",
      "start_index = hash_map[target]: -1 = -1\n",
      "curr_len = i - start_index: 2 = 1 - -1\n",
      "max_len = max(max_len, curr_len): 2 = 2\n",
      "2. hash_map: {0: -1, 10: 0, 15: 1} \n",
      "\n",
      "2 2\n",
      "target = curr_sum - k: 0 = 17 - 15 \n",
      "1. hash_map: {0: -1, 10: 0, 15: 1}\n",
      "2. hash_map: {0: -1, 10: 0, 15: 1, 17: 2} \n",
      "\n",
      "3 7\n",
      "target = curr_sum - k: 2 = 24 - 15 \n",
      "1. hash_map: {0: -1, 10: 0, 15: 1, 17: 2}\n",
      "2. hash_map: {0: -1, 10: 0, 15: 1, 17: 2, 24: 3} \n",
      "\n",
      "4 1\n",
      "target = curr_sum - k: 9 = 25 - 15 \n",
      "1. hash_map: {0: -1, 10: 0, 15: 1, 17: 2, 24: 3}\n",
      "3. hash_map: {0: -1, 10: 0, 15: 1, 17: 2, 24: 3}\n",
      "start_index = hash_map[target]: -1 = 0\n",
      "curr_len = i - start_index: 2 = 4 - -1\n",
      "max_len = max(max_len, curr_len): 2 = 2\n",
      "3. hash_map: {0: -1, 10: 0, 15: 1, 17: 2, 24: 3}\n",
      "start_index = hash_map[target]: 0 = 0\n",
      "curr_len = i - start_index: 4 = 4 - 0\n",
      "max_len = max(max_len, curr_len): 4 = 4\n",
      "2. hash_map: {0: -1, 10: 0, 15: 1, 17: 2, 24: 3, 25: 4} \n",
      "\n",
      "5 9\n",
      "target = curr_sum - k: 10 = 34 - 15 \n",
      "1. hash_map: {0: -1, 10: 0, 15: 1, 17: 2, 24: 3, 25: 4}\n",
      "2. hash_map: {0: -1, 10: 0, 15: 1, 17: 2, 24: 3, 25: 4, 34: 5} \n",
      "\n"
     ]
    },
    {
     "data": {
      "text/plain": [
       "4"
      ]
     },
     "execution_count": 69,
     "metadata": {},
     "output_type": "execute_result"
    }
   ],
   "source": [
    "nums = [10, 5, 2, 7, 1, 9]\n",
    "k=15\n",
    "\n",
    "curr_sum = 0\n",
    "curr_len = 0\n",
    "n = len(nums)\n",
    "hash_map = {0:-1}\n",
    "max_len = 0\n",
    "start_index = 0\n",
    "for i in range(n):\n",
    "    print(i, nums[i])\n",
    "    curr_sum += nums[i]\n",
    "    print(f\"target = curr_sum - k: {target} = {curr_sum} - {k} \")\n",
    "    print(f\"1. hash_map: {hash_map}\")\n",
    "    target = curr_sum - k\n",
    "    if target in hash_map:\n",
    "        print(f\"3. hash_map: {hash_map}\")\n",
    "        print(f\"start_index = hash_map[target]: {start_index} = {hash_map[target]}\")\n",
    "        print(f\"curr_len = i - start_index: {curr_len} = {i} - {start_index}\")\n",
    "        print(f\"max_len = max(max_len, curr_len): {max_len} = {max(max_len, curr_len)}\")\n",
    "\n",
    "        start_index = hash_map[target]\n",
    "        curr_len = i - start_index\n",
    "        max_len = max(max_len, curr_len)\n",
    "\n",
    "        print(f\"3. hash_map: {hash_map}\")\n",
    "        print(f\"start_index = hash_map[target]: {start_index} = {hash_map[target]}\")\n",
    "        print(f\"curr_len = i - start_index: {curr_len} = {i} - {start_index}\")\n",
    "        print(f\"max_len = max(max_len, curr_len): {max_len} = {max(max_len, curr_len)}\")\n",
    "    if curr_sum not in hash_map:\n",
    "        hash_map[curr_sum] = i\n",
    "        print(f\"2. hash_map: {hash_map} \\n\")\n",
    "max_len\n",
    "\n"
   ]
  }
 ],
 "metadata": {
  "kernelspec": {
   "display_name": "Python 3",
   "language": "python",
   "name": "python3"
  },
  "language_info": {
   "codemirror_mode": {
    "name": "ipython",
    "version": 3
   },
   "file_extension": ".py",
   "mimetype": "text/x-python",
   "name": "python",
   "nbconvert_exporter": "python",
   "pygments_lexer": "ipython3",
   "version": "3.11.9"
  }
 },
 "nbformat": 4,
 "nbformat_minor": 5
}
