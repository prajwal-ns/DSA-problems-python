{
 "cells": [
  {
   "cell_type": "markdown",
   "id": "3e917a65",
   "metadata": {},
   "source": [
    "### 2149. Rearrange Array Elements by Sign  \n",
    "\n",
    "[LC Link](https://leetcode.com/problems/rearrange-array-elements-by-sign/description/)\n",
    "\n",
    "You are given a 0-indexed integer array nums of even length consisting of an equal number of positive and negative integers.  \n",
    "\n",
    "You should return the array of nums such that the the array follows the given conditions:  \n",
    "\n",
    "Every consecutive pair of integers have opposite signs.  \n",
    "For all integers with the same sign, the order in which they were present in nums is preserved.  \n",
    "The rearranged array begins with a positive integer.  \n",
    "Return the modified array after rearranging the elements to satisfy the aforementioned conditions.  \n",
    "\n",
    "Example 1:  \n",
    "Input: nums = [3,1,-2,-5,2,-4]  \n",
    "Output: [3,-2,1,-5,2,-4]  \n",
    "Explanation:  \n",
    "The positive integers in nums are [3,1,2]. The negative integers are [-2,-5,-4].  \n",
    "The only possible way to rearrange them such that they satisfy all conditions is [3,-2,1,-5,2,-4].  \n",
    "Other ways such as [1,-2,2,-5,3,-4], [3,1,2,-2,-5,-4], [-2,3,-5,1,-4,2] are incorrect because they do not satisfy one or more conditions.  \n",
    "\n",
    "Example 2:  \n",
    "Input: nums = [-1,1]  \n",
    "Output: [1,-1]  \n",
    "Explanation:  \n",
    "1 is the only positive integer and -1 the only negative integer in nums.  \n",
    "So nums is rearranged to [1,-1].  "
   ]
  },
  {
   "cell_type": "code",
   "execution_count": 42,
   "id": "b5b4f35b",
   "metadata": {},
   "outputs": [
    {
     "data": {
      "text/plain": [
       "[3, -2, 1, -5, 2, -4]"
      ]
     },
     "execution_count": 42,
     "metadata": {},
     "output_type": "execute_result"
    }
   ],
   "source": [
    "nums = [3,1,-2,-5,2,-4]\n",
    "\n",
    "pos, neg = 0, 1\n",
    "arr = [0] * len(nums)\n",
    "\n",
    "for num in nums:\n",
    "    if num > 0:\n",
    "        arr[pos] = num\n",
    "        pos += 2\n",
    "    else:\n",
    "        arr[neg] = num\n",
    "        neg += 2 \n",
    "arr"
   ]
  }
 ],
 "metadata": {
  "kernelspec": {
   "display_name": "Python 3",
   "language": "python",
   "name": "python3"
  },
  "language_info": {
   "codemirror_mode": {
    "name": "ipython",
    "version": 3
   },
   "file_extension": ".py",
   "mimetype": "text/x-python",
   "name": "python",
   "nbconvert_exporter": "python",
   "pygments_lexer": "ipython3",
   "version": "3.11.9"
  }
 },
 "nbformat": 4,
 "nbformat_minor": 5
}
