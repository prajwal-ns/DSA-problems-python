{
 "cells": [
  {
   "cell_type": "markdown",
   "metadata": {},
   "source": [
    "## 1752. Check if Array Is Sorted and Rotated  \n",
    "  \n",
    "    \n",
    "Example 1:\n",
    "\n",
    "Input: nums = [3,4,5,1,2]  \n",
    "Output: true  \n",
    "Explanation: [1,2,3,4,5] is the original sorted array.  \n",
    "You can rotate the array by x = 3 positions to begin on the the element of value 3: [3,4,5,1,2].  \n",
    "\n",
    "Example 2:  \n",
    "Input: nums = [2,1,3,4]   \n",
    "Output: false  \n",
    "Explanation: There is no sorted array once rotated that can make nums.  \n",
    "\n",
    "Example 3:  \n",
    "Input: nums = [1,2,3]  \n",
    "Output: true  \n",
    "Explanation: [1,2,3] is the original sorted array.  \n",
    "You can rotate the array by x = 0 positions (i.e. no rotation) to make nums.  "
   ]
  },
  {
   "cell_type": "code",
   "execution_count": null,
   "metadata": {},
   "outputs": [
    {
     "ename": "",
     "evalue": "",
     "output_type": "error",
     "traceback": [
      "\u001b[1;31mRunning cells with 'Python 3.11.4' requires the ipykernel package.\n",
      "\u001b[1;31mRun the following command to install 'ipykernel' into the Python environment. \n",
      "\u001b[1;31mCommand: 'c:/Users/HP/AppData/Local/Programs/Python/Python311/python.exe -m pip install ipykernel -U --user --force-reinstall'"
     ]
    }
   ],
   "source": [
    "nums = [3,4,5,1,2]"
   ]
  }
 ],
 "metadata": {
  "kernelspec": {
   "display_name": "Python 3",
   "language": "python",
   "name": "python3"
  },
  "language_info": {
   "name": "python",
   "version": "3.11.4"
  }
 },
 "nbformat": 4,
 "nbformat_minor": 2
}
