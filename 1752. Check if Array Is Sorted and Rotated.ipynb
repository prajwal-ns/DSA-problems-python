{
 "cells": [
  {
   "cell_type": "markdown",
   "metadata": {},
   "source": [
    "## 1752. Check if Array Is Sorted and Rotated  \n",
    "  \n",
    "    \n",
    "Example 1:\n",
    "\n",
    "Input: nums = [3,4,5,1,2]  \n",
    "Output: true  \n",
    "Explanation: [1,2,3,4,5] is the original sorted array.  \n",
    "You can rotate the array by x = 3 positions to begin on the the element of value 3: [3,4,5,1,2].  \n",
    "\n",
    "Example 2:  \n",
    "Input: nums = [2,1,3,4]   \n",
    "Output: false  \n",
    "Explanation: There is no sorted array once rotated that can make nums.  \n",
    "\n",
    "Example 3:  \n",
    "Input: nums = [1,2,3]  \n",
    "Output: true  \n",
    "Explanation: [1,2,3] is the original sorted array.  \n",
    "You can rotate the array by x = 0 positions (i.e. no rotation) to make nums.  "
   ]
  },
  {
   "cell_type": "code",
   "execution_count": null,
   "metadata": {},
   "outputs": [
    {
     "name": "stdout",
     "output_type": "stream",
     "text": [
      "[3, 4, 5, 1, 2]\n"
     ]
    }
   ],
   "source": [
    "nums = [3,4,5,1,2]\n",
    "count = 0\n",
    "for i in range(len(nums)):\n",
    "    if nums[i] > nums[(i+1)%n]:\n",
    "        count+=1\n",
    "    if count > 1:\n",
    "        return False\n",
    "return True\n"
   ]
  },
  {
   "cell_type": "code",
   "execution_count": 27,
   "metadata": {},
   "outputs": [
    {
     "name": "stdout",
     "output_type": "stream",
     "text": [
      "n: 5\n",
      "i:  0\n",
      "nums[0]:  3\n",
      "(0+1)%5: 1\n",
      "nums[(0+1)%5]: 4\n",
      "\n",
      "\n",
      "i:  1\n",
      "nums[1]:  4\n",
      "(1+1)%5: 2\n",
      "nums[(1+1)%5]: 5\n",
      "\n",
      "\n",
      "i:  2\n",
      "nums[2]:  5\n",
      "(2+1)%5: 3\n",
      "nums[(2+1)%5]: 1\n",
      "\n",
      "\n",
      "i:  3\n",
      "nums[3]:  1\n",
      "(3+1)%5: 4\n",
      "nums[(3+1)%5]: 2\n",
      "\n",
      "\n",
      "i:  4\n",
      "nums[4]:  2\n",
      "(4+1)%5: 0\n",
      "nums[(4+1)%5]: 3\n",
      "\n",
      "\n"
     ]
    }
   ],
   "source": [
    "''' \n",
    "we don't have to access the nth element hence we use i+1(accesses next element) (i+1)%n when variable reaches nth element\n",
    "instead of picking nth element it picks first element that's how we can check post rotating is array sorted or not \n",
    "'''\n",
    "\n",
    "nums = [3,4,5,1,2]\n",
    "count = 0\n",
    "n = len(nums)\n",
    "print('n:', n)\n",
    "for i in range(n):\n",
    "    print('i: ', i)\n",
    "    print(f'nums[{i}]: ', nums[i])\n",
    "    print(f'({i}+1)%{n}:', (i+1)%n)\n",
    "    print(f'nums[({i}+1)%{n}]:', nums[(i+1)%n])\n",
    "    print('\\n')"
   ]
  },
  {
   "cell_type": "code",
   "execution_count": 30,
   "metadata": {},
   "outputs": [
    {
     "name": "stdout",
     "output_type": "stream",
     "text": [
      "0\n",
      "1\n",
      "2\n",
      "count:  1\n",
      "3\n",
      "4\n",
      "True\n"
     ]
    }
   ],
   "source": [
    "nums = [3,4,5,1,2]\n",
    "count = 0\n",
    "for i in range(len(nums)):\n",
    "    print(i)\n",
    "    if nums[i] > nums[(i+1)%n]:\n",
    "        count+=1\n",
    "        print('count: ', count)\n",
    "    if count > 1:\n",
    "        print(False)\n",
    "print(True)"
   ]
  }
 ],
 "metadata": {
  "kernelspec": {
   "display_name": "general_env",
   "language": "python",
   "name": "python3"
  },
  "language_info": {
   "codemirror_mode": {
    "name": "ipython",
    "version": 3
   },
   "file_extension": ".py",
   "mimetype": "text/x-python",
   "name": "python",
   "nbconvert_exporter": "python",
   "pygments_lexer": "ipython3",
   "version": "3.11.4"
  }
 },
 "nbformat": 4,
 "nbformat_minor": 2
}
