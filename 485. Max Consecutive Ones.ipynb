{
 "cells": [
  {
   "cell_type": "markdown",
   "metadata": {},
   "source": [
    "## 485. Max Consecutive Ones  \n",
    "Given a binary array nums, return the maximum number of consecutive 1's in the array.\n",
    "\n",
    " \n",
    "\n",
    "Example 1:  \n",
    "Input: nums = [1,1,0,1,1,1]  \n",
    "Output: 3  \n",
    "Explanation: The first two digits or the last three digits are consecutive 1s. The maximum number of consecutive 1s is 3.  \n",
    "\n",
    "Example 2:  \n",
    "Input: nums = [1,0,1,1,0,1]  \n",
    "Output: 2"
   ]
  },
  {
   "cell_type": "code",
   "execution_count": 29,
   "metadata": {},
   "outputs": [
    {
     "data": {
      "text/plain": [
       "3"
      ]
     },
     "execution_count": 29,
     "metadata": {},
     "output_type": "execute_result"
    }
   ],
   "source": [
    "nums = [1,1,0,1,1,1]  \n",
    "# nums = [1,0,1,1,0,1]\n",
    "\n",
    "n = len(nums)\n",
    "c = 0\n",
    "m = 0\n",
    "for i in range(n):\n",
    "    if nums[i]:\n",
    "        c += 1\n",
    "    else:\n",
    "        c = 0\n",
    "    m = max(m,c)\n",
    "m"
   ]
  }
 ],
 "metadata": {
  "kernelspec": {
   "display_name": "general_env",
   "language": "python",
   "name": "python3"
  },
  "language_info": {
   "codemirror_mode": {
    "name": "ipython",
    "version": 3
   },
   "file_extension": ".py",
   "mimetype": "text/x-python",
   "name": "python",
   "nbconvert_exporter": "python",
   "pygments_lexer": "ipython3",
   "version": "3.11.4"
  }
 },
 "nbformat": 4,
 "nbformat_minor": 2
}
