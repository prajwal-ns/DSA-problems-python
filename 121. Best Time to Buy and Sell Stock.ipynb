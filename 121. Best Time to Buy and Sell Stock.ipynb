{
 "cells": [
  {
   "cell_type": "markdown",
   "metadata": {},
   "source": [
    "### 121. Best Time to Buy and Sell Stock  \n",
    "\n",
    "[LC Link](https://leetcode.com/problems/best-time-to-buy-and-sell-stock/description/)\n",
    "\n",
    "You are given an array prices where prices[i] is the price of a given stock on the ith day.  \n",
    "You want to maximize your profit by choosing a single day to buy one stock and choosing a different day in the future to sell that stock.  \n",
    "Return the maximum profit you can achieve from this transaction. If you cannot achieve any profit, return 0.  \n",
    "\n",
    "Example 1:  \n",
    "Input: prices = [7,1,5,3,6,4]  \n",
    "Output: 5  \n",
    "Explanation: Buy on day 2 (price = 1) and sell on day 5 (price = 6), profit = 6-1 = 5.  \n",
    "\n",
    "Note that buying on day 2 and selling on day 1 is not allowed because you must buy before you sell.  \n",
    "\n",
    "Example 2:  \n",
    "Input: prices = [7,6,4,3,1]  \n",
    "Output: 0  \n",
    "Explanation: In this case, no transactions are done and the max profit = 0.  "
   ]
  },
  {
   "cell_type": "code",
   "execution_count": 33,
   "metadata": {},
   "outputs": [
    {
     "name": "stdout",
     "output_type": "stream",
     "text": [
      "-6 0 1\n",
      "4 4 1\n",
      "2 4 1\n",
      "5 5 1\n",
      "3 5 1\n"
     ]
    },
    {
     "data": {
      "text/plain": [
       "5"
      ]
     },
     "execution_count": 33,
     "metadata": {},
     "output_type": "execute_result"
    }
   ],
   "source": [
    "prices = [7,1,5,3,6,4] \n",
    "\n",
    "cost  = 0\n",
    "mini = prices[0]\n",
    "profit = 0\n",
    "\n",
    "for i in range(1,len(prices)):\n",
    "    cost = prices[i] - mini\n",
    "    profit = max(cost, profit)\n",
    "    mini = min(mini, prices[i])\n",
    "    print(cost, profit, mini)\n",
    "profit"
   ]
  }
 ],
 "metadata": {
  "kernelspec": {
   "display_name": "general_env",
   "language": "python",
   "name": "python3"
  },
  "language_info": {
   "codemirror_mode": {
    "name": "ipython",
    "version": 3
   },
   "file_extension": ".py",
   "mimetype": "text/x-python",
   "name": "python",
   "nbconvert_exporter": "python",
   "pygments_lexer": "ipython3",
   "version": "3.11.4"
  }
 },
 "nbformat": 4,
 "nbformat_minor": 2
}
